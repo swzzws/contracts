{
 "cells": [
  {
   "cell_type": "code",
   "execution_count": 1,
   "metadata": {},
   "outputs": [],
   "source": [
    "import numpy as np\n",
    "import pandas as pd\n",
    "import matplotlib.pyplot as plt"
   ]
  },
  {
   "cell_type": "markdown",
   "metadata": {},
   "source": [
    "#### 236 средние сроки по этапам"
   ]
  },
  {
   "cell_type": "markdown",
   "metadata": {},
   "source": [
    "   ###### все договоры"
   ]
  },
  {
   "cell_type": "code",
   "execution_count": 2,
   "metadata": {},
   "outputs": [
    {
     "name": "stdout",
     "output_type": "stream",
     "text": [
      "july_236_2020.xls\n"
     ]
    }
   ],
   "source": [
    "# ввод названия выгруженного датасета\n",
    "data_236 = input()\n",
    "df = pd.read_excel(data_236)"
   ]
  },
  {
   "cell_type": "code",
   "execution_count": 3,
   "metadata": {},
   "outputs": [
    {
     "data": {
      "text/plain": [
       "460"
      ]
     },
     "execution_count": 3,
     "metadata": {},
     "output_type": "execute_result"
    }
   ],
   "source": [
    "df[(df['Step'] == 'Подтверждение заключенности') | (df['Step'] == 'Подтверждение заключенности договора регистратором')].nunique()['ID contract']"
   ]
  },
  {
   "cell_type": "code",
   "execution_count": 4,
   "metadata": {},
   "outputs": [
    {
     "data": {
      "text/html": [
       "<div>\n",
       "<style scoped>\n",
       "    .dataframe tbody tr th:only-of-type {\n",
       "        vertical-align: middle;\n",
       "    }\n",
       "\n",
       "    .dataframe tbody tr th {\n",
       "        vertical-align: top;\n",
       "    }\n",
       "\n",
       "    .dataframe thead th {\n",
       "        text-align: right;\n",
       "    }\n",
       "</style>\n",
       "<table border=\"1\" class=\"dataframe\">\n",
       "  <thead>\n",
       "    <tr style=\"text-align: right;\">\n",
       "      <th></th>\n",
       "      <th>Total</th>\n",
       "      <th>Percent</th>\n",
       "    </tr>\n",
       "  </thead>\n",
       "  <tbody>\n",
       "    <tr>\n",
       "      <td>Department</td>\n",
       "      <td>1850</td>\n",
       "      <td>29.891743</td>\n",
       "    </tr>\n",
       "    <tr>\n",
       "      <td>ZNP</td>\n",
       "      <td>1232</td>\n",
       "      <td>19.906285</td>\n",
       "    </tr>\n",
       "    <tr>\n",
       "      <td>Description</td>\n",
       "      <td>661</td>\n",
       "      <td>10.680239</td>\n",
       "    </tr>\n",
       "    <tr>\n",
       "      <td>Department_1</td>\n",
       "      <td>26</td>\n",
       "      <td>0.420100</td>\n",
       "    </tr>\n",
       "    <tr>\n",
       "      <td>Direction</td>\n",
       "      <td>19</td>\n",
       "      <td>0.306996</td>\n",
       "    </tr>\n",
       "    <tr>\n",
       "      <td>Author</td>\n",
       "      <td>9</td>\n",
       "      <td>0.145419</td>\n",
       "    </tr>\n",
       "  </tbody>\n",
       "</table>\n",
       "</div>"
      ],
      "text/plain": [
       "              Total    Percent\n",
       "Department     1850  29.891743\n",
       "ZNP            1232  19.906285\n",
       "Description     661  10.680239\n",
       "Department_1     26   0.420100\n",
       "Direction        19   0.306996\n",
       "Author            9   0.145419"
      ]
     },
     "execution_count": 4,
     "metadata": {},
     "output_type": "execute_result"
    }
   ],
   "source": [
    "def missingdata(data):\n",
    "    '''\n",
    "    считаем кол-во и долю пропущеных значений в датасете\n",
    "    '''\n",
    "    total = data.isnull().sum().sort_values(ascending = False)\n",
    "    percent = (data.isnull().sum()/data.isnull().count()*100).sort_values(ascending = False)\n",
    "    ms=pd.concat([total, percent], axis=1, keys=['Total', 'Percent'])\n",
    "    ms= ms[ms[\"Percent\"] > 0]\n",
    "    return ms\n",
    "\n",
    "missingdata(df)"
   ]
  },
  {
   "cell_type": "code",
   "execution_count": 5,
   "metadata": {},
   "outputs": [
    {
     "data": {
      "text/plain": [
       "Author\n",
       "Киселев Владимир Геннадьевич    2\n",
       "Name: ID contract, dtype: int64"
      ]
     },
     "execution_count": 5,
     "metadata": {},
     "output_type": "execute_result"
    }
   ],
   "source": [
    "# смотрим фио работников с незаполненной дирекцией\n",
    "df[(df['Direction'].isnull())].groupby(['Author']).nunique()['ID contract']"
   ]
  },
  {
   "cell_type": "code",
   "execution_count": 6,
   "metadata": {},
   "outputs": [],
   "source": [
    "def direction(d1):\n",
    "    '''\n",
    "    функция заполняющая дирекции, дополняется в ручную\n",
    "    '''\n",
    "    if d1 == 'Шупеник Алена Викторовна':\n",
    "        return 'Дирекция по правовым и корпоративным вопросам'\n",
    "    elif d1 == 'Киселев Владимир Геннадьевич':\n",
    "        return 'Служба маркетинга'\n",
    "    elif d1 == 'Молокотина Елена Викторовна':\n",
    "        return 'Дирекция по недропользованию'\n",
    "    else:\n",
    "        return 0\n",
    "\n",
    "# заполняем пропуски по дирекциям\n",
    "df['Direction'].fillna(df['Author'].apply(direction), inplace = True)"
   ]
  },
  {
   "cell_type": "code",
   "execution_count": 7,
   "metadata": {},
   "outputs": [],
   "source": [
    "# получаем датасет аггрегированный по этапу с суммой по дням выполнения и кол-вом этапов\n",
    "df_all = df.groupby(['Step']).agg(['sum', 'count'])['Time_days'].reset_index()\n",
    "# переименовываем столбец \n",
    "df_all.rename(columns={'count': 'count_step'}, inplace=True)\n",
    "# получаем датасет сгруппированный по этапос с уникальным количеством договоров\n",
    "df_all_contract = df.groupby(['Step']).nunique()['ID contract'].reset_index()\n",
    "# переименовываем столбец\n",
    "df_all_contract.rename(columns={'ID contract': 'count_contract'}, inplace=True)\n",
    "# соединяем два датасета по названию этапа. теперь есть столбцы с кол-вом этапов, кол-вом договоров и суммой времени выполнения этапа\n",
    "df_all = df_all.merge(df_all_contract, on = 'Step', how = 'left')\n",
    "# считаем среднее время выполнения этапа по кол-ву договоров\n",
    "df_all['Time_contract'] = df_all['sum']/df_all['count_contract']\n",
    "# считаем среднее время выполнения этапа по кол-ву этапов\n",
    "df_all['Time_step'] = df_all['sum']/df_all['count_step']\n",
    "# считаем усредненное время выполнения этапа\n",
    "df_all['Time_avg'] = (df_all['Time_contract'] + df_all['Time_step'])/2\n",
    "# записываем датасет в эксель файл\n",
    "df_all.to_excel('df_all.xlsx')"
   ]
  },
  {
   "cell_type": "markdown",
   "metadata": {},
   "source": [
    "   ###### в разрезе дирекций"
   ]
  },
  {
   "cell_type": "code",
   "execution_count": 8,
   "metadata": {},
   "outputs": [],
   "source": [
    "# создаем список дирекций для расчета среднего срока выполнения этапов\n",
    "list_eng = ['Tech',\n",
    " 'PD',\n",
    " 'IT',\n",
    " 'Legacy',\n",
    " 'Mine',\n",
    " 'HR',\n",
    " 'CC']"
   ]
  },
  {
   "cell_type": "code",
   "execution_count": 9,
   "metadata": {},
   "outputs": [],
   "source": [
    "def direction_eng(d2):\n",
    "    '''\n",
    "    функция соответсвия дирекций в списке и в датасете\n",
    "    '''\n",
    "    if d2 == 'Техническая дирекция':\n",
    "        return 'Tech'\n",
    "    elif d2 == 'Дирекция по закупкам':\n",
    "        return 'PD'\n",
    "    elif d2 == 'Дирекция по информационным технологиям':\n",
    "        return 'IT'\n",
    "    elif d2 == 'Дирекция по правовым и корпоративным вопросам':\n",
    "        return 'Legacy'\n",
    "    elif d2 == 'Дирекция по недропользованию':\n",
    "        return 'Mine'\n",
    "    elif d2 == 'Дирекция по персоналу':\n",
    "        return 'HR'\n",
    "    elif d2 == 'Дирекция по капитальному строительству':\n",
    "        return 'CC'\n",
    "    else:\n",
    "        return 'other_direction'"
   ]
  },
  {
   "cell_type": "code",
   "execution_count": 10,
   "metadata": {},
   "outputs": [],
   "source": [
    "# создаем столбец с названием дирекции из списка\n",
    "df['Direction_new'] = df['Direction'].apply(direction_eng)"
   ]
  },
  {
   "cell_type": "code",
   "execution_count": 11,
   "metadata": {},
   "outputs": [],
   "source": [
    "# объявляем глобальную переменную\n",
    "glb = globals()\n",
    "# в цикле создаем эксель файлы с расчитанными средними сроками выполнения каждого этапа для дирекций из списка\n",
    "for i in list_eng:\n",
    "    glb['df_'+i] = df[df['Direction_new'] == i].groupby(['Step']).agg(['sum', 'count'])['Time_days'].reset_index()\n",
    "    glb['df_'+i].rename(columns={'count': 'count_step'}, inplace=True)\n",
    "    glb['df_'+i+'_contract'] = df[df['Direction_new'] == i].groupby(['Step']).nunique()['ID contract'].reset_index()\n",
    "    glb['df_'+i+'_contract'].rename(columns={'ID contract': 'count_contract'}, inplace=True)\n",
    "    glb['df_'+i] = glb['df_'+i].merge(glb['df_'+i+'_contract'], on = 'Step', how = 'left')\n",
    "    glb['df_'+i]['Time_contract'] = glb['df_'+i]['sum']/glb['df_'+i]['count_contract']\n",
    "    glb['df_'+i]['Time_step'] = glb['df_'+i]['sum']/glb['df_'+i]['count_step']\n",
    "    glb['df_'+i]['Time_avg'] = (glb['df_'+i]['Time_contract'] + glb['df_'+i]['Time_step'])/2\n",
    "    glb['df_'+i].to_excel(str(i) + '.xlsx')"
   ]
  },
  {
   "cell_type": "markdown",
   "metadata": {},
   "source": [
    "#### 242 группировка по срокам заключения"
   ]
  },
  {
   "cell_type": "markdown",
   "metadata": {},
   "source": [
    "   ###### все договоры"
   ]
  },
  {
   "cell_type": "code",
   "execution_count": 12,
   "metadata": {},
   "outputs": [
    {
     "name": "stdout",
     "output_type": "stream",
     "text": [
      "july_242_2020.xls\n"
     ]
    }
   ],
   "source": [
    "# загружаем датасет для расчета кол-ва договоров по группам длительности\n",
    "data_242 = input()\n",
    "df_242 = pd.read_excel(data_242)"
   ]
  },
  {
   "cell_type": "code",
   "execution_count": 13,
   "metadata": {},
   "outputs": [
    {
     "data": {
      "text/plain": [
       "455"
      ]
     },
     "execution_count": 13,
     "metadata": {},
     "output_type": "execute_result"
    }
   ],
   "source": [
    "df_242.nunique()['ID contract']"
   ]
  },
  {
   "cell_type": "code",
   "execution_count": 14,
   "metadata": {},
   "outputs": [
    {
     "data": {
      "text/html": [
       "<div>\n",
       "<style scoped>\n",
       "    .dataframe tbody tr th:only-of-type {\n",
       "        vertical-align: middle;\n",
       "    }\n",
       "\n",
       "    .dataframe tbody tr th {\n",
       "        vertical-align: top;\n",
       "    }\n",
       "\n",
       "    .dataframe thead th {\n",
       "        text-align: right;\n",
       "    }\n",
       "</style>\n",
       "<table border=\"1\" class=\"dataframe\">\n",
       "  <thead>\n",
       "    <tr style=\"text-align: right;\">\n",
       "      <th></th>\n",
       "      <th>Total</th>\n",
       "      <th>Percent</th>\n",
       "    </tr>\n",
       "  </thead>\n",
       "  <tbody>\n",
       "    <tr>\n",
       "      <td>ZNP</td>\n",
       "      <td>4465</td>\n",
       "      <td>83.582928</td>\n",
       "    </tr>\n",
       "    <tr>\n",
       "      <td>Description</td>\n",
       "      <td>482</td>\n",
       "      <td>9.022838</td>\n",
       "    </tr>\n",
       "    <tr>\n",
       "      <td>Department_1</td>\n",
       "      <td>59</td>\n",
       "      <td>1.104455</td>\n",
       "    </tr>\n",
       "    <tr>\n",
       "      <td>Direction</td>\n",
       "      <td>40</td>\n",
       "      <td>0.748783</td>\n",
       "    </tr>\n",
       "    <tr>\n",
       "      <td>Profile</td>\n",
       "      <td>17</td>\n",
       "      <td>0.318233</td>\n",
       "    </tr>\n",
       "    <tr>\n",
       "      <td>Author</td>\n",
       "      <td>9</td>\n",
       "      <td>0.168476</td>\n",
       "    </tr>\n",
       "  </tbody>\n",
       "</table>\n",
       "</div>"
      ],
      "text/plain": [
       "              Total    Percent\n",
       "ZNP            4465  83.582928\n",
       "Description     482   9.022838\n",
       "Department_1     59   1.104455\n",
       "Direction        40   0.748783\n",
       "Profile          17   0.318233\n",
       "Author            9   0.168476"
      ]
     },
     "execution_count": 14,
     "metadata": {},
     "output_type": "execute_result"
    }
   ],
   "source": [
    "# смотрим пропущенные данные в датасете\n",
    "missingdata(df_242)"
   ]
  },
  {
   "cell_type": "code",
   "execution_count": 15,
   "metadata": {},
   "outputs": [
    {
     "data": {
      "text/plain": [
       "Author\n",
       "Киселев Владимир Геннадьевич    2\n",
       "Name: ID contract, dtype: int64"
      ]
     },
     "execution_count": 15,
     "metadata": {},
     "output_type": "execute_result"
    }
   ],
   "source": [
    "# смотрим авторов с пропущенной дирекцией\n",
    "df_242[(df_242['Direction'].isnull())].groupby(['Author']).nunique()['ID contract']"
   ]
  },
  {
   "cell_type": "code",
   "execution_count": 16,
   "metadata": {},
   "outputs": [
    {
     "data": {
      "text/html": [
       "<div>\n",
       "<style scoped>\n",
       "    .dataframe tbody tr th:only-of-type {\n",
       "        vertical-align: middle;\n",
       "    }\n",
       "\n",
       "    .dataframe tbody tr th {\n",
       "        vertical-align: top;\n",
       "    }\n",
       "\n",
       "    .dataframe thead th {\n",
       "        text-align: right;\n",
       "    }\n",
       "</style>\n",
       "<table border=\"1\" class=\"dataframe\">\n",
       "  <thead>\n",
       "    <tr style=\"text-align: right;\">\n",
       "      <th></th>\n",
       "      <th>Total</th>\n",
       "      <th>Percent</th>\n",
       "    </tr>\n",
       "  </thead>\n",
       "  <tbody>\n",
       "    <tr>\n",
       "      <td>ZNP</td>\n",
       "      <td>4465</td>\n",
       "      <td>83.582928</td>\n",
       "    </tr>\n",
       "    <tr>\n",
       "      <td>Description</td>\n",
       "      <td>482</td>\n",
       "      <td>9.022838</td>\n",
       "    </tr>\n",
       "    <tr>\n",
       "      <td>Department_1</td>\n",
       "      <td>59</td>\n",
       "      <td>1.104455</td>\n",
       "    </tr>\n",
       "    <tr>\n",
       "      <td>Profile</td>\n",
       "      <td>17</td>\n",
       "      <td>0.318233</td>\n",
       "    </tr>\n",
       "    <tr>\n",
       "      <td>Author</td>\n",
       "      <td>9</td>\n",
       "      <td>0.168476</td>\n",
       "    </tr>\n",
       "  </tbody>\n",
       "</table>\n",
       "</div>"
      ],
      "text/plain": [
       "              Total    Percent\n",
       "ZNP            4465  83.582928\n",
       "Description     482   9.022838\n",
       "Department_1     59   1.104455\n",
       "Profile          17   0.318233\n",
       "Author            9   0.168476"
      ]
     },
     "execution_count": 16,
     "metadata": {},
     "output_type": "execute_result"
    }
   ],
   "source": [
    "# заполняем пропуски по дирекции\n",
    "df_242['Direction'].fillna(df_242['Author'].apply(direction), inplace = True)\n",
    "missingdata(df_242)"
   ]
  },
  {
   "cell_type": "code",
   "execution_count": 17,
   "metadata": {},
   "outputs": [],
   "source": [
    "# создаем столбенц с английским названием дирекции\n",
    "df_242['Direction_new'] = df_242['Direction'].apply(direction_eng)"
   ]
  },
  {
   "cell_type": "code",
   "execution_count": 18,
   "metadata": {},
   "outputs": [],
   "source": [
    "def group(d3):\n",
    "    '''\n",
    "    функция для проставление группы по длительности заключени договора\n",
    "    '''\n",
    "    if d3 <= 5:\n",
    "        return '0-5'\n",
    "    elif d3 > 5 and d3 <= 10:\n",
    "        return '6-10'\n",
    "    elif d3 > 10 and d3 <=15:\n",
    "        return '11-15'\n",
    "    elif d3 > 15 and d3 <= 30:\n",
    "        return '16-30'\n",
    "    elif d3 > 30 and d3 <= 60:\n",
    "        return '31-60'\n",
    "    else:\n",
    "        return '>60'"
   ]
  },
  {
   "cell_type": "markdown",
   "metadata": {},
   "source": [
    "        Внутренние этапы"
   ]
  },
  {
   "cell_type": "code",
   "execution_count": 19,
   "metadata": {},
   "outputs": [],
   "source": [
    "# агрегируем по ID договора, считаем длительность заключения каждого договора только по внутренним этапам\n",
    "df_242_step = df_242[df_242['Step'] != 'Работа с контрагентом'].groupby(['ID contract']).sum()['Time_days'].reset_index()\n",
    "# применяем ф-цию group - проставляем группы по длительности заключения\n",
    "df_242_step['Group'] = df_242_step['Time_days'].apply(group)\n",
    "# считаем кол-во договоров в каждой группе\n",
    "df_242_step = df_242_step.groupby(['Group']).count()['ID contract'].reset_index()\n",
    "# переименовываем столбец\n",
    "df_242_step.rename(columns={'ID contract': 'count_group'}, inplace=True)\n",
    "# выгружаем датасет в эксель\n",
    "df_242_step.to_excel('242_all_step.xlsx')"
   ]
  },
  {
   "cell_type": "markdown",
   "metadata": {},
   "source": [
    "        Этап Работа с контрагентом"
   ]
  },
  {
   "cell_type": "code",
   "execution_count": 20,
   "metadata": {},
   "outputs": [],
   "source": [
    "# агрегируем по ID договора, считаем длительность заключения каждого договора только по этапу Работа с к/а\n",
    "df_242_rabota = df_242[df_242['Step'] == 'Работа с контрагентом'].groupby(['ID contract']).sum()['Time_days'].reset_index()\n",
    "# применяем ф-цию group - проставляем группы по длительности заключения\n",
    "df_242_rabota['Group'] = df_242_rabota['Time_days'].apply(group)\n",
    "# считаем кол-во договоров в каждой группе\n",
    "df_242_rabota = df_242_rabota.groupby(['Group']).count()['ID contract'].reset_index()\n",
    "# переименовываем столбец\n",
    "df_242_rabota.rename(columns={'ID contract': 'count_group'}, inplace=True)\n",
    "# выгружаем датасет в эксель\n",
    "df_242_rabota.to_excel('242_all_rabota.xlsx')"
   ]
  },
  {
   "cell_type": "markdown",
   "metadata": {},
   "source": [
    "   ###### в разрезе дирекций"
   ]
  },
  {
   "cell_type": "markdown",
   "metadata": {},
   "source": [
    "        Внутренние этапы"
   ]
  },
  {
   "cell_type": "code",
   "execution_count": 21,
   "metadata": {},
   "outputs": [],
   "source": [
    "# создаем список дирекций\n",
    "list_eng_242 = ['Tech',\n",
    " 'PD',\n",
    " 'CC']"
   ]
  },
  {
   "cell_type": "code",
   "execution_count": 22,
   "metadata": {},
   "outputs": [],
   "source": [
    "# считаем аналогично кол-во договоров по группам для дирекций из списка (только внутренние этапы), создаем датасеты в эксель\n",
    "for i in list_eng_242:\n",
    "    glb['df_242_step_'+i] = df_242[(df_242['Direction_new'] == i) & (df_242['Step'] != 'Работа с контрагентом')].groupby(['ID contract']).sum()['Time_days'].reset_index()\n",
    "    glb['df_242_step_'+i]['Group'] = glb['df_242_step_'+i]['Time_days'].apply(group)\n",
    "    glb['df_242_step_'+i] = glb['df_242_step_'+i].groupby(['Group']).count()['ID contract'].reset_index()\n",
    "    glb['df_242_step_'+i].rename(columns={'ID contract': 'count_group'}, inplace=True)\n",
    "    glb['df_242_step_'+i].to_excel(str(i) + '_242_step.xlsx')"
   ]
  },
  {
   "cell_type": "markdown",
   "metadata": {},
   "source": [
    "        Этап Работа с контрагентом"
   ]
  },
  {
   "cell_type": "code",
   "execution_count": 23,
   "metadata": {},
   "outputs": [],
   "source": [
    "# считаем аналогично кол-во договоров по группам для дирекций из списка (только Работа с к/а), создаем датасеты в эксель\n",
    "for i in list_eng_242:\n",
    "    glb['df_242_rabota_'+i] = df_242[(df_242['Direction_new'] == i) & (df_242['Step'] == 'Работа с контрагентом')].groupby(['ID contract']).sum()['Time_days'].reset_index()\n",
    "    glb['df_242_rabota_'+i]['Group'] = glb['df_242_rabota_'+i]['Time_days'].apply(group)\n",
    "    glb['df_242_rabota_'+i] = glb['df_242_rabota_'+i].groupby(['Group']).count()['ID contract'].reset_index()\n",
    "    glb['df_242_rabota_'+i].rename(columns={'ID contract': 'count_group'}, inplace=True)\n",
    "    glb['df_242_rabota_'+i].to_excel(str(i) + '_242_rabota.xlsx')"
   ]
  },
  {
   "cell_type": "code",
   "execution_count": null,
   "metadata": {},
   "outputs": [],
   "source": []
  }
 ],
 "metadata": {
  "kernelspec": {
   "display_name": "Python 3",
   "language": "python",
   "name": "python3"
  },
  "language_info": {
   "codemirror_mode": {
    "name": "ipython",
    "version": 3
   },
   "file_extension": ".py",
   "mimetype": "text/x-python",
   "name": "python",
   "nbconvert_exporter": "python",
   "pygments_lexer": "ipython3",
   "version": "3.7.4"
  }
 },
 "nbformat": 4,
 "nbformat_minor": 2
}
